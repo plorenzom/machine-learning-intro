{
 "metadata": {
  "language_info": {
   "codemirror_mode": {
    "name": "ipython",
    "version": 3
   },
   "file_extension": ".py",
   "mimetype": "text/x-python",
   "name": "python",
   "nbconvert_exporter": "python",
   "pygments_lexer": "ipython3",
   "version": "3.8.8"
  },
  "orig_nbformat": 2,
  "kernelspec": {
   "name": "python3",
   "display_name": "Python 3.8.8 64-bit ('base': conda)"
  },
  "interpreter": {
   "hash": "dca0ade3e726a953b501b15e8e990130d2b7799f14cfd9f4271676035ebe5511"
  }
 },
 "nbformat": 4,
 "nbformat_minor": 2,
 "cells": [
  {
   "source": [
    "# Housing market forecast\n",
    "This project will build a Machine Learning model that tries to predict the price of a house.\n",
    "\n",
    "In this notebook will test our ability to:\n",
    "- Read a data file.\n",
    "- Understand statistics about the data.\n",
    "- Appy techniques to filter the data.\n",
    "- Build a Machine Learning model.\n",
    "- Improve interactively our model."
   ],
   "cell_type": "markdown",
   "metadata": {}
  }
 ]
}